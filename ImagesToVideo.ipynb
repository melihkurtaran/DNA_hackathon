{
  "nbformat": 4,
  "nbformat_minor": 0,
  "metadata": {
    "colab": {
      "provenance": [],
      "authorship_tag": "ABX9TyPoqPLWOILS2lqVaZLcSoNq",
      "include_colab_link": true
    },
    "kernelspec": {
      "name": "python3",
      "display_name": "Python 3"
    },
    "language_info": {
      "name": "python"
    }
  },
  "cells": [
    {
      "cell_type": "markdown",
      "metadata": {
        "id": "view-in-github",
        "colab_type": "text"
      },
      "source": [
        "<a href=\"https://colab.research.google.com/github/melihkurtaran/DNA_hackathon/blob/main/ImagesToVideo.ipynb\" target=\"_parent\"><img src=\"https://colab.research.google.com/assets/colab-badge.svg\" alt=\"Open In Colab\"/></a>"
      ]
    },
    {
      "cell_type": "markdown",
      "source": [
        "Creating video from the images data"
      ],
      "metadata": {
        "id": "UKFZkDFvcE4x"
      }
    },
    {
      "cell_type": "code",
      "source": [
        "!pip install gif2numpy"
      ],
      "metadata": {
        "colab": {
          "base_uri": "https://localhost:8080/"
        },
        "id": "XJIxd4aagmQ_",
        "outputId": "6c1cbbbb-09ee-4019-cd25-ef67cc3ad822"
      },
      "execution_count": 7,
      "outputs": [
        {
          "output_type": "stream",
          "name": "stdout",
          "text": [
            "Looking in indexes: https://pypi.org/simple, https://us-python.pkg.dev/colab-wheels/public/simple/\n",
            "Collecting gif2numpy\n",
            "  Downloading gif2numpy-1.3.zip (10 kB)\n",
            "  Preparing metadata (setup.py) ... \u001b[?25l\u001b[?25hdone\n",
            "Requirement already satisfied: numpy in /usr/local/lib/python3.8/dist-packages (from gif2numpy) (1.21.6)\n",
            "Collecting kaitaistruct\n",
            "  Downloading kaitaistruct-0.10-py2.py3-none-any.whl (7.0 kB)\n",
            "Building wheels for collected packages: gif2numpy\n",
            "  Building wheel for gif2numpy (setup.py) ... \u001b[?25l\u001b[?25hdone\n",
            "  Created wheel for gif2numpy: filename=gif2numpy-1.3-py2.py3-none-any.whl size=8392 sha256=796272d3ddbb9538047d205c1b24613447d6589717688f7d3327f166efc0083b\n",
            "  Stored in directory: /root/.cache/pip/wheels/7d/70/75/7e42205c427015e223944d47ea89e01dc779fb49ba664fb743\n",
            "Successfully built gif2numpy\n",
            "Installing collected packages: kaitaistruct, gif2numpy\n",
            "Successfully installed gif2numpy-1.3 kaitaistruct-0.10\n"
          ]
        }
      ]
    },
    {
      "cell_type": "code",
      "source": [
        "import cv2\n",
        "import glob\n",
        "import gif2numpy"
      ],
      "metadata": {
        "id": "9R359ZIviZm5"
      },
      "execution_count": null,
      "outputs": []
    },
    {
      "cell_type": "markdown",
      "source": [
        "Code for a day"
      ],
      "metadata": {
        "id": "2Gd0tXC3iV8B"
      }
    },
    {
      "cell_type": "code",
      "source": [
        "import cv2\n",
        "import glob\n",
        "import gif2numpy\n",
        "\n",
        "# List all the .gif files in the directory\n",
        "files = glob.glob('aemet_pm_20220101*.gif')\n",
        "files.sort()  # Sort the files in order\n",
        "\n",
        "# Convert the first .gif file to get the frame size\n",
        "frames, extensions, image_specs = gif2numpy.convert(files[0])\n",
        "height, width, layers = frames[0].shape\n",
        "\n",
        "# Define the video writer object\n",
        "video = cv2.VideoWriter(\"video1.mp4\", cv2.VideoWriter_fourcc(*'mp4v'), 20, (width, height))\n",
        "\n",
        "# Loop through all the files and add them to the video\n",
        "for file in files:\n",
        "    frames, extensions, image_specs = gif2numpy.convert(file)\n",
        "    for frame in frames:\n",
        "        video.write(frame)\n",
        "\n",
        "# Release the video writer object\n",
        "video.release()"
      ],
      "metadata": {
        "id": "Dyg1fAXtmF5g"
      },
      "execution_count": 20,
      "outputs": []
    },
    {
      "cell_type": "markdown",
      "source": [
        "Code for a week"
      ],
      "metadata": {
        "id": "zCADvcTXiXlP"
      }
    },
    {
      "cell_type": "code",
      "source": [
        "# List all the .gif files in the directory for a week\n",
        "files = glob.glob('aemet_pm_20220101*.gif') + glob.glob('aemet_pm_20220102*.gif') + \\\n",
        "        glob.glob('aemet_pm_20220103*.gif') + glob.glob('aemet_pm_20220104*.gif') + \\\n",
        "        glob.glob('aemet_pm_20220105*.gif') + glob.glob('aemet_pm_20220106*.gif') + \\\n",
        "        glob.glob('aemet_pm_20220107*.gif')\n",
        "files.sort()  # Sort the files in order\n",
        "\n",
        "# Convert the first .gif file to get the frame size\n",
        "frames, extensions, image_specs = gif2numpy.convert(files[0])\n",
        "height, width, layers = frames[0].shape\n",
        "\n",
        "# Define the video writer object\n",
        "video = cv2.VideoWriter(\"video_20220101_20220107.mp4\", cv2.VideoWriter_fourcc(*'mp4v'), 100, (width, height))\n",
        "\n",
        "# Loop through all the files and add them to the video\n",
        "for file in files:\n",
        "    frames, extensions, image_specs = gif2numpy.convert(file)\n",
        "    for frame in frames:\n",
        "        video.write(frame)\n",
        "\n",
        "# Release the video writer object\n",
        "video.release()\n"
      ],
      "metadata": {
        "colab": {
          "base_uri": "https://localhost:8080/",
          "height": 381
        },
        "id": "2L1EfDdVibfG",
        "outputId": "1ec78212-0b52-4339-fc00-4816d97cc036"
      },
      "execution_count": 13,
      "outputs": [
        {
          "output_type": "error",
          "ename": "KeyboardInterrupt",
          "evalue": "ignored",
          "traceback": [
            "\u001b[0;31m---------------------------------------------------------------------------\u001b[0m",
            "\u001b[0;31mKeyboardInterrupt\u001b[0m                         Traceback (most recent call last)",
            "\u001b[0;32m<ipython-input-13-1e2befc6ddcc>\u001b[0m in \u001b[0;36m<module>\u001b[0;34m\u001b[0m\n\u001b[1;32m     15\u001b[0m \u001b[0;31m# Loop through all the files and add them to the video\u001b[0m\u001b[0;34m\u001b[0m\u001b[0;34m\u001b[0m\u001b[0;34m\u001b[0m\u001b[0m\n\u001b[1;32m     16\u001b[0m \u001b[0;32mfor\u001b[0m \u001b[0mfile\u001b[0m \u001b[0;32min\u001b[0m \u001b[0mfiles\u001b[0m\u001b[0;34m:\u001b[0m\u001b[0;34m\u001b[0m\u001b[0;34m\u001b[0m\u001b[0m\n\u001b[0;32m---> 17\u001b[0;31m     \u001b[0mframes\u001b[0m\u001b[0;34m,\u001b[0m \u001b[0mextensions\u001b[0m\u001b[0;34m,\u001b[0m \u001b[0mimage_specs\u001b[0m \u001b[0;34m=\u001b[0m \u001b[0mgif2numpy\u001b[0m\u001b[0;34m.\u001b[0m\u001b[0mconvert\u001b[0m\u001b[0;34m(\u001b[0m\u001b[0mfile\u001b[0m\u001b[0;34m)\u001b[0m\u001b[0;34m\u001b[0m\u001b[0;34m\u001b[0m\u001b[0m\n\u001b[0m\u001b[1;32m     18\u001b[0m     \u001b[0;32mfor\u001b[0m \u001b[0mframe\u001b[0m \u001b[0;32min\u001b[0m \u001b[0mframes\u001b[0m\u001b[0;34m:\u001b[0m\u001b[0;34m\u001b[0m\u001b[0;34m\u001b[0m\u001b[0m\n\u001b[1;32m     19\u001b[0m         \u001b[0mvideo\u001b[0m\u001b[0;34m.\u001b[0m\u001b[0mwrite\u001b[0m\u001b[0;34m(\u001b[0m\u001b[0mframe\u001b[0m\u001b[0;34m)\u001b[0m\u001b[0;34m\u001b[0m\u001b[0;34m\u001b[0m\u001b[0m\n",
            "\u001b[0;32m/usr/local/lib/python3.8/dist-packages/gif2numpy.py\u001b[0m in \u001b[0;36mconvert\u001b[0;34m(gif_filename, BGR2RGB)\u001b[0m\n\u001b[1;32m    606\u001b[0m                 \u001b[0mnp_image\u001b[0m \u001b[0;34m=\u001b[0m \u001b[0mnp\u001b[0m\u001b[0;34m.\u001b[0m\u001b[0marray\u001b[0m\u001b[0;34m(\u001b[0m\u001b[0;34m[\u001b[0m\u001b[0mlocal_color_table\u001b[0m\u001b[0;34m[\u001b[0m\u001b[0mbyt\u001b[0m\u001b[0;34m]\u001b[0m \u001b[0;32mfor\u001b[0m \u001b[0mbyt\u001b[0m \u001b[0;32min\u001b[0m \u001b[0muncompressed\u001b[0m\u001b[0;34m]\u001b[0m\u001b[0;34m)\u001b[0m\u001b[0;34m\u001b[0m\u001b[0;34m\u001b[0m\u001b[0m\n\u001b[1;32m    607\u001b[0m             \u001b[0;32melse\u001b[0m\u001b[0;34m:\u001b[0m\u001b[0;34m\u001b[0m\u001b[0;34m\u001b[0m\u001b[0m\n\u001b[0;32m--> 608\u001b[0;31m                 \u001b[0mnp_image\u001b[0m \u001b[0;34m=\u001b[0m \u001b[0mnp\u001b[0m\u001b[0;34m.\u001b[0m\u001b[0marray\u001b[0m\u001b[0;34m(\u001b[0m\u001b[0;34m[\u001b[0m\u001b[0mcolor_table\u001b[0m\u001b[0;34m[\u001b[0m\u001b[0mbyt\u001b[0m\u001b[0;34m]\u001b[0m \u001b[0;32mfor\u001b[0m \u001b[0mbyt\u001b[0m \u001b[0;32min\u001b[0m \u001b[0muncompressed\u001b[0m\u001b[0;34m]\u001b[0m\u001b[0;34m)\u001b[0m\u001b[0;34m\u001b[0m\u001b[0;34m\u001b[0m\u001b[0m\n\u001b[0m\u001b[1;32m    609\u001b[0m             \u001b[0;31m# print(\"image_height, image_width, channels\", image_height, image_width, channels)\u001b[0m\u001b[0;34m\u001b[0m\u001b[0;34m\u001b[0m\u001b[0;34m\u001b[0m\u001b[0m\n\u001b[1;32m    610\u001b[0m             \u001b[0mnp_image\u001b[0m \u001b[0;34m=\u001b[0m \u001b[0mnp\u001b[0m\u001b[0;34m.\u001b[0m\u001b[0mreshape\u001b[0m\u001b[0;34m(\u001b[0m\u001b[0mnp_image\u001b[0m\u001b[0;34m,\u001b[0m \u001b[0;34m(\u001b[0m\u001b[0mheight\u001b[0m\u001b[0;34m,\u001b[0m \u001b[0mwidth\u001b[0m\u001b[0;34m,\u001b[0m \u001b[0mchannels\u001b[0m\u001b[0;34m)\u001b[0m\u001b[0;34m)\u001b[0m\u001b[0;34m\u001b[0m\u001b[0;34m\u001b[0m\u001b[0m\n",
            "\u001b[0;32m/usr/local/lib/python3.8/dist-packages/gif2numpy.py\u001b[0m in \u001b[0;36m<listcomp>\u001b[0;34m(.0)\u001b[0m\n\u001b[1;32m    606\u001b[0m                 \u001b[0mnp_image\u001b[0m \u001b[0;34m=\u001b[0m \u001b[0mnp\u001b[0m\u001b[0;34m.\u001b[0m\u001b[0marray\u001b[0m\u001b[0;34m(\u001b[0m\u001b[0;34m[\u001b[0m\u001b[0mlocal_color_table\u001b[0m\u001b[0;34m[\u001b[0m\u001b[0mbyt\u001b[0m\u001b[0;34m]\u001b[0m \u001b[0;32mfor\u001b[0m \u001b[0mbyt\u001b[0m \u001b[0;32min\u001b[0m \u001b[0muncompressed\u001b[0m\u001b[0;34m]\u001b[0m\u001b[0;34m)\u001b[0m\u001b[0;34m\u001b[0m\u001b[0;34m\u001b[0m\u001b[0m\n\u001b[1;32m    607\u001b[0m             \u001b[0;32melse\u001b[0m\u001b[0;34m:\u001b[0m\u001b[0;34m\u001b[0m\u001b[0;34m\u001b[0m\u001b[0m\n\u001b[0;32m--> 608\u001b[0;31m                 \u001b[0mnp_image\u001b[0m \u001b[0;34m=\u001b[0m \u001b[0mnp\u001b[0m\u001b[0;34m.\u001b[0m\u001b[0marray\u001b[0m\u001b[0;34m(\u001b[0m\u001b[0;34m[\u001b[0m\u001b[0mcolor_table\u001b[0m\u001b[0;34m[\u001b[0m\u001b[0mbyt\u001b[0m\u001b[0;34m]\u001b[0m \u001b[0;32mfor\u001b[0m \u001b[0mbyt\u001b[0m \u001b[0;32min\u001b[0m \u001b[0muncompressed\u001b[0m\u001b[0;34m]\u001b[0m\u001b[0;34m)\u001b[0m\u001b[0;34m\u001b[0m\u001b[0;34m\u001b[0m\u001b[0m\n\u001b[0m\u001b[1;32m    609\u001b[0m             \u001b[0;31m# print(\"image_height, image_width, channels\", image_height, image_width, channels)\u001b[0m\u001b[0;34m\u001b[0m\u001b[0;34m\u001b[0m\u001b[0;34m\u001b[0m\u001b[0m\n\u001b[1;32m    610\u001b[0m             \u001b[0mnp_image\u001b[0m \u001b[0;34m=\u001b[0m \u001b[0mnp\u001b[0m\u001b[0;34m.\u001b[0m\u001b[0mreshape\u001b[0m\u001b[0;34m(\u001b[0m\u001b[0mnp_image\u001b[0m\u001b[0;34m,\u001b[0m \u001b[0;34m(\u001b[0m\u001b[0mheight\u001b[0m\u001b[0;34m,\u001b[0m \u001b[0mwidth\u001b[0m\u001b[0;34m,\u001b[0m \u001b[0mchannels\u001b[0m\u001b[0;34m)\u001b[0m\u001b[0;34m)\u001b[0m\u001b[0;34m\u001b[0m\u001b[0;34m\u001b[0m\u001b[0m\n",
            "\u001b[0;31mKeyboardInterrupt\u001b[0m: "
          ]
        }
      ]
    }
  ]
}